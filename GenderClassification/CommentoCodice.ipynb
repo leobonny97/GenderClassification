{
 "cells": [
  {
   "cell_type": "markdown",
   "metadata": {},
   "source": [
    "# Codice ragnatela"
   ]
  },
  {
   "cell_type": "markdown",
   "metadata": {},
   "source": [
    "#### Questo codice è strutturato nello stesso modo per tutti i file con il nome \"calcolo_ragnatelaX.py\" dove X sta per il numero della configurazione della ragnatela"
   ]
  },
  {
   "cell_type": "raw",
   "metadata": {},
   "source": [
    "# Aggiungiamo le librerie"
   ]
  },
  {
   "cell_type": "code",
   "execution_count": 1,
   "metadata": {},
   "outputs": [],
   "source": [
    "import os\n",
    "import time\n",
    "import threading\n",
    "import multiprocessing\n",
    "import math\n",
    "from pylab import *\n",
    "import PIL.Image as im\n",
    "import csv\n",
    "import sys\n",
    "import pandas as pd\n",
    "from imutils import face_utils\n",
    "import numpy as np\n",
    "import argparse\n",
    "import imutils\n",
    "import dlib\n",
    "import cv2\n",
    "from PIL import ImageFont\n",
    "from PIL import Image\n",
    "from PIL import ImageDraw\n",
    "from string import Template\n",
    "import string"
   ]
  },
  {
   "cell_type": "raw",
   "metadata": {},
   "source": [
    "# leggiamo il dataset WHE e convertiamo tutto in interi"
   ]
  },
  {
   "cell_type": "code",
   "execution_count": 2,
   "metadata": {},
   "outputs": [],
   "source": [
    "array = np.genfromtxt (\"train_gtruth.csv\", delimiter = \",\", skip_header = 1)\n",
    "array = array.astype(int)"
   ]
  },
  {
   "cell_type": "raw",
   "metadata": {},
   "source": [
    "# tutto ciò che segue questo commento ci è stato fornito e non è stato cambiato"
   ]
  },
  {
   "cell_type": "code",
   "execution_count": 3,
   "metadata": {},
   "outputs": [
    {
     "name": "stdout",
     "output_type": "stream",
     "text": [
      "200\n",
      "400\n"
     ]
    },
    {
     "ename": "KeyboardInterrupt",
     "evalue": "",
     "output_type": "error",
     "traceback": [
      "\u001b[1;31m---------------------------------------------------------------------------\u001b[0m",
      "\u001b[1;31mKeyboardInterrupt\u001b[0m                         Traceback (most recent call last)",
      "\u001b[1;32m<ipython-input-3-994a58f1b59b>\u001b[0m in \u001b[0;36m<module>\u001b[1;34m\u001b[0m\n\u001b[0;32m    139\u001b[0m         \u001b[0mtick_detector\u001b[0m \u001b[1;33m=\u001b[0m \u001b[0mtime\u001b[0m\u001b[1;33m.\u001b[0m\u001b[0mtime\u001b[0m\u001b[1;33m(\u001b[0m\u001b[1;33m)\u001b[0m\u001b[1;33m\u001b[0m\u001b[1;33m\u001b[0m\u001b[0m\n\u001b[0;32m    140\u001b[0m \u001b[1;33m\u001b[0m\u001b[0m\n\u001b[1;32m--> 141\u001b[1;33m         \u001b[0mrects\u001b[0m \u001b[1;33m=\u001b[0m \u001b[0mdetector\u001b[0m\u001b[1;33m(\u001b[0m\u001b[0mfoto\u001b[0m\u001b[1;33m,\u001b[0m \u001b[1;36m1\u001b[0m\u001b[1;33m)\u001b[0m\u001b[1;33m\u001b[0m\u001b[1;33m\u001b[0m\u001b[0m\n\u001b[0m\u001b[0;32m    142\u001b[0m \u001b[1;33m\u001b[0m\u001b[0m\n\u001b[0;32m    143\u001b[0m         \u001b[0mdista\u001b[0m \u001b[1;33m=\u001b[0m \u001b[1;36m0\u001b[0m\u001b[1;33m\u001b[0m\u001b[1;33m\u001b[0m\u001b[0m\n",
      "\u001b[1;31mKeyboardInterrupt\u001b[0m: "
     ]
    }
   ],
   "source": [
    "def distanza(x1, y1, x2, y2):\n",
    "    x12 = (x2 - x1) * (x2 - x1)\n",
    "    y12 = (y2 - y1) * (y2 - y1)\n",
    "    xy = x12 + y12\n",
    "    dist = math.sqrt(xy)\n",
    "    return dist\n",
    "\n",
    "detector = dlib.get_frontal_face_detector()\n",
    "predictor = dlib.shape_predictor(\"shape_predictor_68_face_landmarks.dat\")\n",
    "\n",
    "intero = 0\n",
    "\n",
    "voltostr = ''\n",
    "\n",
    "cerchi = 4  # cerchi\n",
    "fetteQ = 4  # fette per quadrante\n",
    "\n",
    "fette = fetteQ * 4\n",
    "s1 = cerchi * fette\n",
    "\n",
    "file = [[0 for y in range(s1+2)] for x in range(100187)]\n",
    "\n",
    "# in range inseriamo il numero di immagine da dare in input alla ragnatela\n",
    "dizionario = [[0 for y in range(s1)] for x in range(100187)]\n",
    "# x = width\n",
    "# y = height\n",
    "\n",
    "dizionario=np.array(dizionario, dtype=int)\n",
    "\n",
    "dizionario_str = ['' for xx in range(100187)]\n",
    "\n",
    "dizionario_gen = ['' for xx in range(100187)]\n",
    "\n",
    "volto = np.zeros(s1)\n",
    "\n",
    "\n",
    "def aggiungi(xcentro, ycentro, rax, xpunto, ypunto, distNaso, coeff, immm):\n",
    "    indice = 0\n",
    "\n",
    "    settore = np.zeros(3)  # cerchio, quadrante, fetta\n",
    "\n",
    "    a = 0  # a = raggioStart\n",
    "    b8 = 4 * rax / 10  # b = raggioStop\n",
    "    i = 1  # in quale cerchio cade il punto. i = [1, cerchi]\n",
    "\n",
    "    b4 = 7 * rax / 10\n",
    "    b2 = 9 * rax / 10\n",
    "\n",
    "    # cerchi\n",
    "    if (distNaso > a and distNaso <= b8):\n",
    "        settore[0] = 1\n",
    "    elif (distNaso > b8 and distNaso <= b4):\n",
    "        settore[0] = 2\n",
    "    elif (distNaso > b4 and distNaso <= b2):\n",
    "        settore[0] = 3\n",
    "    else:\n",
    "        settore[0] = 4\n",
    "\n",
    "    # quadrante\n",
    "    if (xpunto <= xcentro and y <= ycentro):\n",
    "        # il punto appartiene al quadrante in alto a sinistra\n",
    "        settore[1] = 2\n",
    "    elif (x <= xnose and y >= ynose):\n",
    "        # il punto appartiene al quadrante in basso a sinistra\n",
    "        settore[1] = 3\n",
    "    elif (x >= xnose and y <= ynose):\n",
    "        # il punto appartiene al quadrante in alto a destra\n",
    "        settore[1] = 1\n",
    "    else:\n",
    "        # il punto appartiene al quadrante in basso a destra\n",
    "        settore[1] = 4\n",
    "\n",
    "    a = 0  # grado Start\n",
    "    b = 90 / fetteQ  # grado Stop\n",
    "    i = 1  # in quale fetta cade il punto. i = [1, fette]\n",
    "\n",
    "    radang_a = 0  # radiante Start\n",
    "    radang_b = math.radians(b)  # radiante Stop\n",
    "    tng_a = math.tan(radang_a)\n",
    "    tng_b = math.tan(radang_b)\n",
    "\n",
    "    # fetta\n",
    "    while (settore[2] == 0 and b < 90):\n",
    "        if (coeff > tng_a and coeff <= tng_b):\n",
    "            settore[2] = i\n",
    "        b = b + (90 / fetteQ)\n",
    "        radang_b = math.radians(b)  # radiante Stop\n",
    "        tng_a = tng_b\n",
    "        tng_b = math.tan(radang_b)\n",
    "        i = i + 1\n",
    "\n",
    "    if (xpunto == xnose):\n",
    "        settore[2] = 1\n",
    "\n",
    "    if (settore[2] == 0):\n",
    "        settore[2] = fetteQ\n",
    "\n",
    "    if (settore[1] == 1 or settore[1] == 3):\n",
    "        indice = int(fette * (settore[0] - 1) + fetteQ * (settore[1] - 1) + abs(settore[2] - 4) - 1)\n",
    "    else:\n",
    "        indice = int(fette * (settore[0] - 1) + fetteQ * (settore[1] - 1) + settore[2] - 1)\n",
    "\n",
    "    try:\n",
    "        if (xnose != xpunto or ynose != ypunto):  # il naso non ha settore\n",
    "            volto[indice] = int(volto[indice] + 1)\n",
    "    except:\n",
    "        # else:\n",
    "        print(\"ERROOOOOOOREEEEEE------\")\n",
    "        print(\"indice \", indice)\n",
    "\n",
    "    return indice\n",
    "\n",
    "\n",
    "immagini = os.listdir('Lara')\n",
    "\n",
    "num_volto = 0\n",
    "\n",
    "for img in immagini:\n",
    "    if img.find(\".jpg\") > 0:\n",
    "\n",
    "        tick_detector = time.time()\n",
    "\n",
    "        im2 = \"Lara/\" + str(img)\n",
    "\n",
    "        foto = cv2.imread(im2)\n",
    "\n",
    "        volto = np.zeros(s1)\n",
    "\n",
    "        xnose = 0\n",
    "        ynose = 0\n",
    "        raggio = 0\n",
    "\n",
    "        xlont = 0\n",
    "        ylont = 0\n",
    "\n",
    "        foto = imutils.resize(foto, width=512)\n",
    "        gray = cv2.cvtColor(foto, cv2.COLOR_BGR2GRAY)\n",
    "\n",
    "        tick_detector = time.time()\n",
    "\n",
    "        rects = detector(foto, 1)\n",
    "\n",
    "        dista = 0\n",
    "        raggio = 0\n",
    "\n",
    "        m = 0\n",
    "        d = 0\n",
    "        n = 1\n",
    "        imga = zeros([512, 512, 3])\n",
    "\n",
    "        if size(rects) == 1: #eseguiamo tutto ciò che segue solamente se viene individuato un unico volto\n",
    "            for (i, rect) in enumerate(rects):\n",
    "                tick_predictor = time.time()\n",
    "\n",
    "                shape = predictor(gray, rect)\n",
    "\n",
    "                shape = face_utils.shape_to_np(shape)\n",
    "                (x, y, w, h) = face_utils.rect_to_bb(rect)\n",
    "                # cv2.rectangle(image, (x, y), (x + w, y + h), (0, 255, 0), 2)\n",
    "                xnose = shape[33][0]\n",
    "                ynose = shape[33][1]\n",
    "\n",
    "                for (x, y) in shape:\n",
    "                    tick_volto = time.time()\n",
    "\n",
    "                    dista = distanza(xnose, ynose, x, y)\n",
    "                    if (dista > raggio):\n",
    "                        raggio = dista\n",
    "                        xlont = x  # coordinata x del punto più lontano dal naso\n",
    "                        ylont = y  # coordinata y del punto più lontano dal naso\n",
    "                for (x, y) in shape:\n",
    "                    settore = [0, 0, 0]\n",
    "                    if (y == ynose):\n",
    "                        m = 0\n",
    "                    else:\n",
    "                        m = (x - xnose) / (y - ynose)\n",
    "                    m = abs(m)\n",
    "\n",
    "                    d = distanza(xnose, ynose, x, y)\n",
    "\n",
    "                    tick_punto = time.time()\n",
    "\n",
    "                    nnn = aggiungi(xnose, ynose, raggio, x, y, d, m, imga)\n",
    "\n",
    "        else: #se vengono individuati più di un volto o zero volti, scartiamo l'immagine\n",
    "            continue\n",
    "\n",
    "        dizionario[num_volto] = volto\n",
    "\n",
    "        nomeimagine = str(img)\n",
    "        dimensione = len(nomeimagine)\n",
    "        nomeimagine = nomeimagine[:dimensione - 4]\n",
    "\n",
    "        dizionario_str[num_volto] = int(nomeimagine)\n",
    "\n",
    "        #effettuiamo un confronto sul nome per poi salvare il genere in un array a parte\n",
    "        for (a) in array:\n",
    "            if (a[0]) == (dizionario_str[num_volto]):\n",
    "                dizionario_gen[num_volto]=int(a[4])\n",
    "                break\n",
    "\n",
    "\n",
    "        file[num_volto] = np.append(dizionario[num_volto], [dizionario_str[num_volto]] ) #aggiungiamo numero immagine\n",
    "        file[num_volto] = np.append(file[num_volto], [dizionario_gen[num_volto]]) #aggiungiamo genere\n",
    "\n",
    "        num_volto = num_volto + 1\n",
    "        if ((num_volto % 200) == 0):\n",
    "            print(num_volto)\n",
    "\n",
    "pd.DataFrame(file).to_csv(\"file1.csv\") #memorizziamo tutto in un file per non dover ripetere l'elaborazione\n",
    "\n",
    "print(num_volto) #stampiamo il numero di volti trovati"
   ]
  },
  {
   "cell_type": "markdown",
   "metadata": {},
   "source": [
    "# Controllo Genere"
   ]
  },
  {
   "cell_type": "markdown",
   "metadata": {},
   "source": [
    "#### Questo codice è strutturato nello stesso modo per tutti i file con il nome \"ControlloGenereX.py\" dove X sta per il numero della configurazione della ragnatela. In questo script effettuiamo un bilanciamento del dataset."
   ]
  },
  {
   "cell_type": "raw",
   "metadata": {},
   "source": [
    "# importiamo le librerie e inizializziamo le variabili"
   ]
  },
  {
   "cell_type": "code",
   "execution_count": null,
   "metadata": {},
   "outputs": [],
   "source": [
    "import numpy as np\n",
    "import pandas as pd\n",
    "\n",
    "countM=0  \n",
    "countF=0\n",
    "maggiore=0\n",
    "count=0"
   ]
  },
  {
   "cell_type": "raw",
   "metadata": {},
   "source": [
    "# leggiamo il file"
   ]
  },
  {
   "cell_type": "code",
   "execution_count": null,
   "metadata": {},
   "outputs": [],
   "source": [
    "array1 = np.genfromtxt (\"file1.csv\", delimiter = \",\", skip_header = 1)\n",
    "array1 = array1.astype(int)"
   ]
  },
  {
   "cell_type": "raw",
   "metadata": {},
   "source": [
    "# contiamo il numero di maschi e delle femmine all'interno del file"
   ]
  },
  {
   "cell_type": "code",
   "execution_count": null,
   "metadata": {},
   "outputs": [],
   "source": [
    "for genere in array1:\n",
    "    if genere[66]==0:\n",
    "        countM = countM + 1\n",
    "    elif genere[66]==1:\n",
    "        countF = countF + 1"
   ]
  },
  {
   "cell_type": "raw",
   "metadata": {},
   "source": [
    "# effettuaimo un confronto tra maschi e femmine. Il minore tra questi, viene memorizzato nella variabile \"maggiore\".\n",
    "# allochiamo l'array e inizializziamo le altre variabili"
   ]
  },
  {
   "cell_type": "code",
   "execution_count": null,
   "metadata": {},
   "outputs": [],
   "source": [
    "if countM > countF:\n",
    "    maggiore=countF\n",
    "else:\n",
    "    maggiore=countM\n",
    "\n",
    "array1finale = [[0 for y in range(66)] for x in range(maggiore*2)]\n",
    "\n",
    "countM=0\n",
    "countF=0"
   ]
  },
  {
   "cell_type": "raw",
   "metadata": {},
   "source": [
    "# memorizziamo tutto nell'array in modo da avere lo stesso numero di maschi e femmine. Scartiamo i dati in eccesso che sbilanciano il dataset."
   ]
  },
  {
   "cell_type": "code",
   "execution_count": null,
   "metadata": {},
   "outputs": [],
   "source": [
    "for i in array1:\n",
    "    if i[66] == 0:\n",
    "        if countM < maggiore:\n",
    "            array1finale[count]= i\n",
    "            countM=countM+1\n",
    "            count = count + 1\n",
    "    elif i[66] == 1:\n",
    "        if countF < maggiore:\n",
    "            array1finale[count]= i\n",
    "            countF=countF + 1\n",
    "            count=count+1"
   ]
  },
  {
   "cell_type": "raw",
   "metadata": {},
   "source": [
    "# memorizziamo tutto in un nuovo file"
   ]
  },
  {
   "cell_type": "code",
   "execution_count": null,
   "metadata": {},
   "outputs": [],
   "source": [
    "pd.DataFrame(array1finale).to_csv(\"file1finale.csv\")"
   ]
  },
  {
   "cell_type": "markdown",
   "metadata": {},
   "source": [
    "#  Classificatore SVM"
   ]
  },
  {
   "cell_type": "markdown",
   "metadata": {},
   "source": [
    "#### Questo codice è strutturato nello stesso modo per tutti i file con il nome \"ClassificatoreXsettori.py\", \"ClassificatoreXsettoriConEtà.py\" e \"ClassificatoreXsettoriConEtàPosaColoreDimensioneViso.py\" dove X sta per il numero di settori. Qui creiamo il classificatore, lo alleniamo e stampiamo i risultati."
   ]
  },
  {
   "cell_type": "raw",
   "metadata": {},
   "source": [
    "# importiamo le librerie"
   ]
  },
  {
   "cell_type": "code",
   "execution_count": null,
   "metadata": {},
   "outputs": [],
   "source": [
    "import numpy as np\n",
    "import pandas as pd\n",
    "import matplotlib.pyplot as plt\n",
    "from sklearn import datasets, svm, metrics\n",
    "from sklearn.model_selection import train_test_split"
   ]
  },
  {
   "cell_type": "raw",
   "metadata": {},
   "source": [
    "# leggiamo il file e convertiamo tutto in interi"
   ]
  },
  {
   "cell_type": "code",
   "execution_count": null,
   "metadata": {},
   "outputs": [],
   "source": [
    "array = np.genfromtxt (\"file4finale.csv\", delimiter = \",\", skip_header = 1)\n",
    "array = array.astype(int)"
   ]
  },
  {
   "cell_type": "raw",
   "metadata": {},
   "source": [
    "# allochiamo gli array ed inizializziamo la variabile"
   ]
  },
  {
   "cell_type": "code",
   "execution_count": null,
   "metadata": {},
   "outputs": [],
   "source": [
    "data = [[0 for y in range(63)] for x in range(array.shape[0])]\n",
    "genere = ['' for xx in range(array.shape[0])]\n",
    "\n",
    "count = 0"
   ]
  },
  {
   "cell_type": "raw",
   "metadata": {},
   "source": [
    "# separiamo il genere dall'intero dataset; il genere viene inserito nell'array \"genere\" mentre i rimanenti dati nell'array \"data\"."
   ]
  },
  {
   "cell_type": "code",
   "execution_count": null,
   "metadata": {},
   "outputs": [],
   "source": [
    "for i in array:\n",
    "    data[count]= i[2:66]\n",
    "    genere[count] = i[67]\n",
    "    count = count + 1"
   ]
  },
  {
   "cell_type": "raw",
   "metadata": {},
   "source": [
    "# suddividiamo il dataset in training set e test set."
   ]
  },
  {
   "cell_type": "code",
   "execution_count": null,
   "metadata": {},
   "outputs": [],
   "source": [
    "X_train, X_test, y_train, y_test = train_test_split(data, genere, test_size=0.3, shuffle=True)"
   ]
  },
  {
   "cell_type": "raw",
   "metadata": {},
   "source": [
    "# scegliamo il classificatore che vogliamo utilizzare (SVM)"
   ]
  },
  {
   "cell_type": "code",
   "execution_count": null,
   "metadata": {},
   "outputs": [],
   "source": [
    "classifier = svm.SVC(gamma=0.001)"
   ]
  },
  {
   "cell_type": "raw",
   "metadata": {},
   "source": [
    "# alleniamo l'algoritmo utilizzando il training set"
   ]
  },
  {
   "cell_type": "code",
   "execution_count": null,
   "metadata": {},
   "outputs": [],
   "source": [
    "classifier.fit(X_train, y_train)"
   ]
  },
  {
   "cell_type": "raw",
   "metadata": {},
   "source": [
    "# testiamo i valori del test set e stampiamo i risultati"
   ]
  },
  {
   "cell_type": "code",
   "execution_count": null,
   "metadata": {},
   "outputs": [],
   "source": [
    "predicted = classifier.predict(X_test)"
   ]
  },
  {
   "cell_type": "raw",
   "metadata": {},
   "source": [
    "# stampiamo la matrice di confusione, accuracy ed altre informazioni utili"
   ]
  },
  {
   "cell_type": "code",
   "execution_count": null,
   "metadata": {},
   "outputs": [],
   "source": [
    "print(\"Classification report for classifier %s:\\n%s\\n\"\n",
    "      % (classifier, metrics.classification_report(y_test, predicted)))\n",
    "disp = metrics.plot_confusion_matrix(classifier, X_test, y_test)\n",
    "disp.figure_.suptitle(\"Confusion Matrix\")\n",
    "print(\"Confusion matrix:\\n%s\" % disp.confusion_matrix)\n",
    "plt.show()"
   ]
  },
  {
   "cell_type": "markdown",
   "metadata": {},
   "source": [
    "# Aggiunta età"
   ]
  },
  {
   "cell_type": "markdown",
   "metadata": {},
   "source": [
    "#### Questo codice è strutturato nello stesso modo per tutti i file con il nome \"AggiuntaEtàX.py\" dove X sta per il numero della configurazione della ragnatela. In questo script effettuiamo l'aggiuntà dell'età all'interno del dataset che successivamente andremo ad allenare con il classificatore che abbiamo visto in precedenza."
   ]
  },
  {
   "cell_type": "raw",
   "metadata": {},
   "source": [
    "# importiamo le librerie"
   ]
  },
  {
   "cell_type": "code",
   "execution_count": null,
   "metadata": {},
   "outputs": [],
   "source": [
    "import numpy as np\n",
    "import pandas as pd"
   ]
  },
  {
   "cell_type": "raw",
   "metadata": {},
   "source": [
    "# leggiamo i file, li convertiamo in interi, allochiamo l'array ed inizializziamo la variabile"
   ]
  },
  {
   "cell_type": "code",
   "execution_count": null,
   "metadata": {},
   "outputs": [],
   "source": [
    "array1 = np.genfromtxt (\"file1finale.csv\", delimiter = \",\", skip_header = 1)\n",
    "array1 = array1.astype(int)\n",
    "\n",
    "array = np.genfromtxt (\"train_gtruth.csv\", delimiter = \",\", skip_header = 1)\n",
    "array= array.astype(int)\n",
    "\n",
    "file = [[0 for y in range(67)] for x in range(array1.shape[0])]\n",
    "\n",
    "\n",
    "count=0"
   ]
  },
  {
   "cell_type": "raw",
   "metadata": {},
   "source": [
    "# effettuaimo un confronto tramite il nome dell'immagine ed andiamo ad aggiungere l'età al dataset che andremo ad utilizzare all'interno del classificatore."
   ]
  },
  {
   "cell_type": "code",
   "execution_count": null,
   "metadata": {},
   "outputs": [],
   "source": [
    "for (a) in array1:\n",
    "    for (b) in array:\n",
    "        if (a[66]) == (b[0]):\n",
    "            file[count] = a[2:]\n",
    "            file[count] = np.append(file[count], [b[2]]) #età\n",
    "            count = count + 1\n",
    "            print(count)\n",
    "            break\n"
   ]
  },
  {
   "cell_type": "raw",
   "metadata": {},
   "source": [
    "# memorizziamo il nuovo file contenente l'età"
   ]
  },
  {
   "cell_type": "code",
   "execution_count": null,
   "metadata": {},
   "outputs": [],
   "source": [
    "pd.DataFrame(file).to_csv(\"file1finaleConEtà.csv\")"
   ]
  },
  {
   "cell_type": "raw",
   "metadata": {},
   "source": [
    "# a questo punto possiamo utilizzare il classificatore \"ClassificatoreXsettoriConEtà.py\", dove X sta per il numero di settori, per vedere i risultati con il nuovo dataset"
   ]
  },
  {
   "cell_type": "markdown",
   "metadata": {},
   "source": [
    "# Aggiunta posa, colore e dimensione del viso"
   ]
  },
  {
   "cell_type": "markdown",
   "metadata": {},
   "source": [
    "#### Questo codice è strutturato nello stesso modo per tutti i file con il nome \"AggiuntaPosaColoreDimensioneVisoX.py\" dove X sta per il numero della configurazione della ragnatela. In questo script effettuiamo l'aggiuntà della posa, del colore e della dimensione del viso all'interno del dataset che successivamente andremo ad allenare con il classificatore che abbiamo visto in precedenza."
   ]
  },
  {
   "cell_type": "raw",
   "metadata": {},
   "source": [
    "# importiamo le librerie"
   ]
  },
  {
   "cell_type": "code",
   "execution_count": null,
   "metadata": {},
   "outputs": [],
   "source": [
    "import numpy as np\n",
    "import pandas as pd"
   ]
  },
  {
   "cell_type": "raw",
   "metadata": {},
   "source": [
    "# leggiamo i file (il primo file letto è quello ottenuto dalla fase di \"Aggiunta Età\" vista in precendeza), li convertiamo in interi, allochiamo l'array ed inizializziamo la variabile"
   ]
  },
  {
   "cell_type": "code",
   "execution_count": null,
   "metadata": {},
   "outputs": [],
   "source": [
    "array1 = np.genfromtxt (\"file1finaleConEtà.csv\", delimiter = \",\", skip_header = 1)\n",
    "array1 = array1.astype(int)\n",
    "\n",
    "array = np.genfromtxt (\"train_gtruth.csv\", delimiter = \",\", skip_header = 1)\n",
    "array= array.astype(int)\n",
    "\n",
    "file = [[0 for y in range(70)] for x in range(array1.shape[0])]\n",
    "\n",
    "\n",
    "count=0"
   ]
  },
  {
   "cell_type": "raw",
   "metadata": {},
   "source": [
    "# effettuaimo un confronto tramite il nome dell'immagine ed andiamo ad aggiungere la posa, il colore e la dimensione del viso al dataset che andremo ad utilizzare all'interno del classificatore."
   ]
  },
  {
   "cell_type": "code",
   "execution_count": null,
   "metadata": {},
   "outputs": [],
   "source": [
    "for (a) in array1:\n",
    "    for (b) in array:\n",
    "        if (a[65]) == (b[0]):\n",
    "            file[count] = a[1:]\n",
    "            file[count] = np.append(file[count], [b[3]]) #colore\n",
    "            file[count] = np.append(file[count], [b[5]]) #posa\n",
    "            file[count] = np.append(file[count], [b[8]]) #dimensione del viso\n",
    "            count = count + 1\n",
    "            print(count)\n",
    "            break"
   ]
  },
  {
   "cell_type": "raw",
   "metadata": {},
   "source": [
    "# memorizziamo il nuovo file contenente anche il colore, la posa e la dimensione del viso"
   ]
  },
  {
   "cell_type": "code",
   "execution_count": null,
   "metadata": {},
   "outputs": [],
   "source": [
    "pd.DataFrame(file).to_csv(\"file1finaleConEtàPosaColoreDimensioneViso.csv\")"
   ]
  },
  {
   "cell_type": "raw",
   "metadata": {},
   "source": [
    "# a questo punto possiamo utilizzare il classificatore \"ClassificatoreXsettoriConEtàPosaColoreDimensioneViso.py\", dove X sta per il numero di settori, per vedere i risultati con il nuovo dataset"
   ]
  }
 ],
 "metadata": {
  "kernelspec": {
   "display_name": "Python 3",
   "language": "python",
   "name": "python3"
  },
  "language_info": {
   "codemirror_mode": {
    "name": "ipython",
    "version": 3
   },
   "file_extension": ".py",
   "mimetype": "text/x-python",
   "name": "python",
   "nbconvert_exporter": "python",
   "pygments_lexer": "ipython3",
   "version": "3.7.7"
  }
 },
 "nbformat": 4,
 "nbformat_minor": 4
}
